{
 "cells": [
  {
   "cell_type": "code",
   "execution_count": 1,
   "metadata": {},
   "outputs": [],
   "source": [
    "import pandas as pd\n",
    "import numpy as np\n",
    "import seaborn as sns\n",
    "import matplotlib.pyplot as plt\n",
    "from collections import Counter\n",
    "import Bio.PDB.Polypeptide as pp\n",
    "from os.path import join\n",
    "import os\n",
    "from matplotlib import cm"
   ]
  },
  {
   "cell_type": "code",
   "execution_count": 2,
   "metadata": {},
   "outputs": [],
   "source": [
    "AA = list(pp.aa1)"
   ]
  },
  {
   "cell_type": "code",
   "execution_count": 3,
   "metadata": {},
   "outputs": [],
   "source": [
    "DATA = 'data/'"
   ]
  },
  {
   "cell_type": "code",
   "execution_count": 4,
   "metadata": {},
   "outputs": [],
   "source": [
    "proteins = ['1be9', '1d5r', '1nd4', '3dqw', '4bz3']\n",
    "protein_names = ['PSD95', 'PTEN', 'APH(3\\')II', 'Src CD', 'VIM-2']"
   ]
  },
  {
   "cell_type": "code",
   "execution_count": 5,
   "metadata": {},
   "outputs": [],
   "source": [
    "data_path = join(DATA, 'structure')\n",
    "thresholds = [round(i, 1) for i in np.linspace(3, 10, 71)]\n",
    "sample_thresholds = [round(i, 1) for i in np.linspace(3, 10, 8)]\n",
    "measures = ['nodes', 'edges', 'weight', 'distance']"
   ]
  },
  {
   "cell_type": "code",
   "execution_count": 6,
   "metadata": {},
   "outputs": [],
   "source": [
    "functional_data = dict()\n",
    "for protein in proteins:\n",
    "    csv_file = join(DATA, f'functional_{protein}.csv')\n",
    "    functional_data[protein] = pd.read_csv(csv_file, index_col=0, header=0)"
   ]
  },
  {
   "cell_type": "code",
   "execution_count": 7,
   "metadata": {},
   "outputs": [],
   "source": [
    "tex_fonts = {\n",
    "    # Use LaTeX to write all text\n",
    "    \"text.usetex\": True,\n",
    "    \"font.family\": \"serif\",\n",
    "    # Use 10pt font in plots, to match 10pt font in document\n",
    "    \"axes.labelsize\": 10,\n",
    "    \"font.size\": 10,\n",
    "    # Make the legend/label fonts a little smaller\n",
    "    \"legend.fontsize\": 8,\n",
    "    \"xtick.labelsize\": 8,\n",
    "    \"ytick.labelsize\": 8\n",
    "}\n",
    "\n",
    "plt.rcParams.update(tex_fonts)"
   ]
  },
  {
   "cell_type": "code",
   "execution_count": 8,
   "metadata": {},
   "outputs": [],
   "source": [
    "def set_size(width, fraction=1):\n",
    "    \"\"\"Set figure dimensions to avoid scaling in LaTeX.\n",
    "\n",
    "    Parameters\n",
    "    ----------\n",
    "    width: float\n",
    "            Document textwidth or columnwidth in pts\n",
    "    fraction: float, optional\n",
    "            Fraction of the width which you wish the figure to occupy\n",
    "\n",
    "    Returns\n",
    "    -------\n",
    "    fig_dim: tuple\n",
    "            Dimensions of figure in inches\n",
    "    \"\"\"\n",
    "    # Width of figure (in pts)\n",
    "    fig_width_pt = width * fraction\n",
    "\n",
    "    # Convert from pt to inches\n",
    "    inches_per_pt = 1 / 72.27\n",
    "\n",
    "    # Golden ratio to set aesthetic figure height\n",
    "    # https://disq.us/p/2940ij3\n",
    "    golden_ratio = (5**.5 - 1) / 2\n",
    "\n",
    "    # Figure width in inches\n",
    "    fig_width_in = fig_width_pt * inches_per_pt\n",
    "    # Figure height in inches\n",
    "    fig_height_in = fig_width_in * golden_ratio\n",
    "\n",
    "    fig_dim = (fig_width_in, fig_height_in)\n",
    "\n",
    "    return fig_dim"
   ]
  },
  {
   "cell_type": "code",
   "execution_count": 9,
   "metadata": {},
   "outputs": [],
   "source": [
    "def ReadNetworkCSV(protein, threshold, measure):\n",
    "    \"\"\"Return DataFrame from corresponding CSV. If protein has multiple identical chains, return average value for \n",
    "    each position amongst all chains.\"\"\"\n",
    "    file = os.path.join(join(DATA, 'structure'), f\"{protein}/{protein}_{threshold}_{measure}.csv\")\n",
    "    network_df = pd.read_csv(file, header=0)\n",
    "    network_df.index = AA\n",
    "    # Get chains from columns\n",
    "    column_names = list(network_df.columns)\n",
    "    chains = list(set([position[1] for position in column_names]))\n",
    "    # Get positions without chain distinction from functional files\n",
    "    positions = list(functional_data[protein].columns)\n",
    "    average = pd.DataFrame(index=AA, columns=positions, dtype=np.float64)\n",
    "    # Save data for position over chains in list, write average into df\n",
    "    for position in positions:\n",
    "        for aa in AA:\n",
    "            values = []\n",
    "            for chain in chains:\n",
    "                check = position[0]+chain+position[1:]\n",
    "                if check in network_df.columns:\n",
    "                    values.append(network_df.at[aa, check])\n",
    "            if values:\n",
    "                average_value = sum(values)/len(values)\n",
    "                average.at[aa, position] = average_value\n",
    "    return average"
   ]
  },
  {
   "cell_type": "code",
   "execution_count": 10,
   "metadata": {},
   "outputs": [],
   "source": [
    "def Standardize(protein, threshold, measure):\n",
    "    \"\"\"Return standardized values from network data. Make 0's into NaN. \"\"\"\n",
    "    network_df = ReadNetworkCSV(protein, threshold, measure)\n",
    "    for position in network_df.columns:\n",
    "        for aa in network_df.index:\n",
    "            if position[0] == aa:\n",
    "                network_df.at[aa, position] = np.nan\n",
    "    data_array = network_df.to_numpy()\n",
    "    data_mean = np.nanmean(network_df, dtype=np.float64)\n",
    "    data_std = np.nanstd(network_df, dtype=np.float64)\n",
    "    network_df = network_df.apply(lambda x:(x-data_mean)/data_std)\n",
    "    return network_df "
   ]
  },
  {
   "cell_type": "code",
   "execution_count": 11,
   "metadata": {},
   "outputs": [],
   "source": [
    "def GetPercentage(percentage, which, data, return_score=False):\n",
    "    \"\"\"Return set with top or bottom percentage of positions according to functional data. \n",
    "    Parameters:\n",
    "        percentage (float): between 0 and 1, percentage of positions that we want.\n",
    "        which (str): 'highest', 'lowest'\n",
    "        data (dataframe): functional data to consider mean of\n",
    "        return_score (bool): If True, return list of tuples with mean value and position\n",
    "    Returns:\n",
    "        Set of positions.\n",
    "    \"\"\"\n",
    "    functional_mean = data.mean()\n",
    "    positions = list(data.columns)\n",
    "    pairs = [(functional_mean[pos], pos) for pos in positions] \n",
    "    pairs.sort(key = lambda x:x[0]) \n",
    "    if which == 'highest': \n",
    "        pairs.reverse() \n",
    "    n = int(len(positions)*percentage)\n",
    "    if return_score:\n",
    "        return [pair for pair in pairs[:n]]\n",
    "    else:\n",
    "        return set([pair[1] for pair in pairs[:n]])"
   ]
  },
  {
   "cell_type": "code",
   "execution_count": 12,
   "metadata": {},
   "outputs": [],
   "source": [
    "def GetNetworkExtremes(protein, mincount, measure_cutoffs, thresh=9.0):\n",
    "    \"\"\" Return set with positions that pass measure sd cutoffs for at least mincount measures. \"\"\"\n",
    "    network_extremes_list = []\n",
    "    for i,measure in enumerate(measures): \n",
    "        threshold = 3.8 if measure == 'distance' else thresh\n",
    "        network_df = Standardize(protein, threshold, measure)\n",
    "        if measure_cutoffs[i] > 0:\n",
    "            extremes = network_df.columns[(network_df > measure_cutoffs[i]).any()].tolist()\n",
    "        else:\n",
    "            extremes = network_df.columns[(network_df < measure_cutoffs[i]).any()].tolist()\n",
    "        network_extremes_list.extend(extremes)\n",
    "\n",
    "    counter = Counter(network_extremes_list)\n",
    "    positions = list(set(network_extremes_list))\n",
    "    return set([pos for pos in positions if counter[pos] >= mincount])"
   ]
  },
  {
   "cell_type": "code",
   "execution_count": 13,
   "metadata": {},
   "outputs": [],
   "source": [
    "def ToPercentage(a,b):\n",
    "    \"\"\"Return percentage form of a/b, if b != 0. If given set or list, use len of. \n",
    "    If string, return formatted percentage, else float.\"\"\"\n",
    "    x = a if type(a) == int or type(a) == float else len(a)\n",
    "    y = b if type(b) == int or type(b) == float else len(b)\n",
    "    \n",
    "    if y == 0:\n",
    "        return np.nan\n",
    "    else:\n",
    "        return round(100*x/y,1)"
   ]
  },
  {
   "cell_type": "code",
   "execution_count": 14,
   "metadata": {},
   "outputs": [],
   "source": [
    "def GetScores(functional_percentage, network_mincount, measure_cutoffs, thresh=9.0, mean=True):\n",
    "    \"\"\"Return accuracy, coverage and prediction percentage scores. Returns list of lists, [accuracy, coverage,\n",
    "    predper] for each protein and the mean, if mean == True \"\"\"\n",
    "    which_scores = ['Accuracy', 'Coverage', 'Prediction %']\n",
    "    scores = {score:[] for score in which_scores}\n",
    "    for protein in proteins:\n",
    "        network_extremes = GetNetworkExtremes(protein, network_mincount, measure_cutoffs, thresh=thresh)\n",
    "        funct_extremes = GetPercentage(functional_percentage, 'lowest', functional_data[protein])\n",
    "        how_many = len(network_extremes.intersection(funct_extremes))\n",
    "        positions = len(functional_data[protein].columns)\n",
    "    \n",
    "        scores['Coverage'].append(ToPercentage(how_many, funct_extremes))\n",
    "        scores['Accuracy'].append(ToPercentage(how_many, network_extremes))\n",
    "        scores['Prediction %'].append(ToPercentage(network_extremes, positions))\n",
    "        \n",
    "    if mean:\n",
    "        for score in which_scores:\n",
    "            scores[score].append(round(np.mean(scores[score]), 1))\n",
    "            \n",
    "    return scores"
   ]
  },
  {
   "cell_type": "code",
   "execution_count": 15,
   "metadata": {},
   "outputs": [
    {
     "data": {
      "text/plain": [
       "{'Accuracy': [66.7, 84.0, 90.5, 72.5, 90.7, 80.9],\n",
       " 'Coverage': [42.4, 55.7, 37.3, 38.5, 53.3, 45.4],\n",
       " 'Prediction %': [25.3, 26.4, 16.5, 21.1, 23.4, 22.5]}"
      ]
     },
     "execution_count": 15,
     "metadata": {},
     "output_type": "execute_result"
    }
   ],
   "source": [
    "GetScores(0.4, 4, [1.5]*4, thresh=9.0)"
   ]
  },
  {
   "cell_type": "markdown",
   "metadata": {},
   "source": [
    "## Loss predictions"
   ]
  },
  {
   "cell_type": "code",
   "execution_count": 16,
   "metadata": {},
   "outputs": [],
   "source": [
    "### make one dataframe per protein and one for the mean, with columns accuracy, coverage, predper; thresholds as index\n",
    "## maximizing accuracy\n",
    "proteins2 = proteins+['mean']\n",
    "data = {protein:[] for protein in proteins2}\n",
    "which_scores = ['Accuracy', 'Coverage', 'Prediction %']\n",
    "\n",
    "for thresh in thresholds:\n",
    "    scores = GetScores(0.4, 4, [1.5]*4, thresh=thresh)\n",
    "    for name in which_scores:\n",
    "        for i,protein in enumerate(proteins2):\n",
    "            # add lines [thresh, score, type]\n",
    "            data[protein].append([thresh, scores[name][i], name])"
   ]
  },
  {
   "cell_type": "code",
   "execution_count": 37,
   "metadata": {},
   "outputs": [],
   "source": [
    "df_data = pd.DataFrame(data['mean'], columns=['Threshold','Score', 'Name'])"
   ]
  },
  {
   "cell_type": "code",
   "execution_count": 115,
   "metadata": {},
   "outputs": [],
   "source": [
    "dfs = []\n",
    "for protein in data.keys():\n",
    "    df = pd.DataFrame(data[protein], columns=['Threshold','Score', 'Name'])\n",
    "    df['Protein'] = protein\n",
    "    dfs.append(df)\n",
    "df = pd.concat(dfs)"
   ]
  },
  {
   "cell_type": "code",
   "execution_count": 37,
   "metadata": {},
   "outputs": [],
   "source": [
    "df_data = pd.DataFrame(data['1be9'], columns=['Threshold','Score', 'Name'])"
   ]
  },
  {
   "cell_type": "code",
   "execution_count": 127,
   "metadata": {},
   "outputs": [],
   "source": [
    "d = dict(zip(proteins, protein_names))\n",
    "d.update({'mean': 'Mean'})"
   ]
  },
  {
   "cell_type": "code",
   "execution_count": 133,
   "metadata": {},
   "outputs": [],
   "source": [
    "df['Protein'] = df['Protein'].replace(d)"
   ]
  },
  {
   "cell_type": "code",
   "execution_count": 137,
   "metadata": {},
   "outputs": [],
   "source": [
    "plt.legend?"
   ]
  },
  {
   "cell_type": "code",
   "execution_count": 138,
   "metadata": {},
   "outputs": [
    {
     "data": {
      "text/plain": [
       "<matplotlib.legend.Legend at 0x7f5120bbc400>"
      ]
     },
     "execution_count": 138,
     "metadata": {},
     "output_type": "execute_result"
    },
    {
     "data": {
      "image/png": "[encoded data removed]",
      "text/plain": [
       "<Figure size 1080x720 with 6 Axes>"
      ]
     },
     "metadata": {
      "needs_background": "light"
     },
     "output_type": "display_data"
    }
   ],
   "source": [
    "g = sns.catplot(x='Name', y='Score', data=df, col='Protein', col_wrap=3,\n",
    "            col_order=df.Protein.unique(), kind='boxen')\n",
    "g.set_titles(row_template = '{row_name}', col_template = '{col_name}')\n",
    "\n",
    "x = [0, 1 , 2]\n",
    "for i, protein in enumerate(df.Protein.unique()):\n",
    "    y = df[(df.Protein==protein) & (df.Threshold==9.)]['Score'].values\n",
    "    g.axes[i].scatter(x=x, y=y, c='red', zorder=3, s=50, marker='d')\n",
    "X = plt.scatter([], [], marker='d', c='red', label='Scores for threshold 9')\n",
    "plt.legend(frameon=False)"
   ]
  }
 ],
 "metadata": {
  "kernelspec": {
   "display_name": "Python 3",
   "language": "python",
   "name": "python3"
  },
  "language_info": {
   "codemirror_mode": {
    "name": "ipython",
    "version": 3
   },
   "file_extension": ".py",
   "mimetype": "text/x-python",
   "name": "python",
   "nbconvert_exporter": "python",
   "pygments_lexer": "ipython3",
   "version": "3.8.5"
  }
 },
 "nbformat": 4,
 "nbformat_minor": 4
}
